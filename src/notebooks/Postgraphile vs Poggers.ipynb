{
 "cells": [
  {
   "cell_type": "code",
   "execution_count": null,
   "id": "c7305f06",
   "metadata": {},
   "outputs": [],
   "source": [
    "import matplotlib.pyplot as plt\n",
    "\n",
    "let x = [0.42]"
   ]
  },
  {
   "cell_type": "markdown",
   "id": "28f555c2",
   "metadata": {},
   "source": [
    "First I benchmarked Postgraphile. Postgraphile was connected to the same database, and supplied the exact same query. I then ran the perf stat command alongside curl to request JSON from Postgraphile repeatedly 100 times in order to get a good average\n",
    "\n",
    "``\n",
    "perf stat -r 100 -d curl -g \\\n",
    "-X POST \\\n",
    "-H \"Content-Type: application/json\" \\\n",
    "-d '{\"query\":\"query{ siteUsers{ id reputation views upvotes downvotes postsByOwneruserid{ id posttypeid } } }\"}' \\\n",
    "http://localhost:4000/graphql\n",
    "``\n",
    "\n",
    "The average over these 100 runs was 420ms."
   ]
  },
  {
   "cell_type": "markdown",
   "id": "dc18a292",
   "metadata": {},
   "source": [
    "Next, I fed the same query to Poggers v1. Poggers v1 mimicked Postgrahile (it builds the exact same SQL query).\n",
    "After running this query 100 times, it averaged at 128ms.\n",
    "\n",
    "\n"
   ]
  },
  {
   "cell_type": "markdown",
   "id": "994c6186",
   "metadata": {},
   "source": [
    "Finally, I tested Poggers v2. Poggers v2 only requires for the data to be grouped by parent primary keys, and constructs the data JSON data itself. It averaged at 35ms over 100 iterations"
   ]
  },
  {
   "cell_type": "code",
   "execution_count": 4,
   "id": "051a973b",
   "metadata": {
    "scrolled": true
   },
   "outputs": [
    {
     "data": {
      "text/plain": [
       "<BarContainer object of 3 artists>"
      ]
     },
     "execution_count": 4,
     "metadata": {},
     "output_type": "execute_result"
    },
    {
     "data": {
      "image/png": "[encoded data removed]",
      "text/plain": [
       "<Figure size 432x288 with 1 Axes>"
      ]
     },
     "metadata": {
      "needs_background": "light"
     },
     "output_type": "display_data"
    }
   ],
   "source": [
    "plt.bar([\"Postgraphile\", \"Poggers v1\", \"Poggers v2\"], [420, 128, 35])"
   ]
  }
 ],
 "metadata": {
  "kernelspec": {
   "display_name": "Python 3 (ipykernel)",
   "language": "python",
   "name": "python3"
  },
  "language_info": {
   "codemirror_mode": {
    "name": "ipython",
    "version": 3
   },
   "file_extension": ".py",
   "mimetype": "text/x-python",
   "name": "python",
   "nbconvert_exporter": "python",
   "pygments_lexer": "ipython3",
   "version": "3.9.5"
  }
 },
 "nbformat": 4,
 "nbformat_minor": 5
}
